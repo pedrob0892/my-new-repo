{
 "cells": [
  {
   "cell_type": "code",
   "execution_count": 36,
   "id": "3b182f04",
   "metadata": {},
   "outputs": [],
   "source": [
    "import pandas as pd #Importando a biblioteca\n"
   ]
  },
  {
   "cell_type": "code",
   "execution_count": 37,
   "id": "6a06b7b4",
   "metadata": {},
   "outputs": [
    {
     "name": "stdout",
     "output_type": "stream",
     "text": [
      "<class 'pandas.core.frame.DataFrame'>\n",
      "RangeIndex: 51525 entries, 0 to 51524\n",
      "Data columns (total 13 columns):\n",
      " #   Column        Non-Null Count  Dtype  \n",
      "---  ------        --------------  -----  \n",
      " 0   price         51525 non-null  int64  \n",
      " 1   model_year    47906 non-null  float64\n",
      " 2   model         51525 non-null  object \n",
      " 3   condition     51525 non-null  object \n",
      " 4   cylinders     46265 non-null  float64\n",
      " 5   fuel          51525 non-null  object \n",
      " 6   odometer      43633 non-null  float64\n",
      " 7   transmission  51525 non-null  object \n",
      " 8   type          51525 non-null  object \n",
      " 9   paint_color   42258 non-null  object \n",
      " 10  is_4wd        25572 non-null  float64\n",
      " 11  date_posted   51525 non-null  object \n",
      " 12  days_listed   51525 non-null  int64  \n",
      "dtypes: float64(4), int64(2), object(7)\n",
      "memory usage: 5.1+ MB\n"
     ]
    }
   ],
   "source": [
    "vehicles = pd.read_csv(r'C:\\Users\\pedro\\my-new-repo\\vehicles.csv') #Analisando as informações gerais do dataframe\n",
    "vehicles.info()"
   ]
  },
  {
   "cell_type": "code",
   "execution_count": 38,
   "id": "179017c7",
   "metadata": {},
   "outputs": [
    {
     "name": "stdout",
     "output_type": "stream",
     "text": [
      "0\n"
     ]
    }
   ],
   "source": [
    "print(vehicles.duplicated().sum()) #Verificando se há valores duplicados"
   ]
  },
  {
   "cell_type": "code",
   "execution_count": 39,
   "id": "02be2543",
   "metadata": {},
   "outputs": [
    {
     "name": "stdout",
     "output_type": "stream",
     "text": [
      "price               0\n",
      "model_year       3619\n",
      "model               0\n",
      "condition           0\n",
      "cylinders        5260\n",
      "fuel                0\n",
      "odometer         7892\n",
      "transmission        0\n",
      "type                0\n",
      "paint_color      9267\n",
      "is_4wd          25953\n",
      "date_posted         0\n",
      "days_listed         0\n",
      "dtype: int64\n"
     ]
    }
   ],
   "source": [
    "print(vehicles.isna().sum()) #Verificando se há valores ausentes"
   ]
  },
  {
   "cell_type": "code",
   "execution_count": 40,
   "id": "398350b5",
   "metadata": {},
   "outputs": [
    {
     "name": "stdout",
     "output_type": "stream",
     "text": [
      "<class 'pandas.core.frame.DataFrame'>\n",
      "RangeIndex: 51525 entries, 0 to 51524\n",
      "Data columns (total 13 columns):\n",
      " #   Column        Non-Null Count  Dtype         \n",
      "---  ------        --------------  -----         \n",
      " 0   price         51525 non-null  int64         \n",
      " 1   model_year    47906 non-null  float64       \n",
      " 2   model         51525 non-null  object        \n",
      " 3   condition     51525 non-null  object        \n",
      " 4   cylinders     46265 non-null  float64       \n",
      " 5   fuel          51525 non-null  object        \n",
      " 6   odometer      43633 non-null  float64       \n",
      " 7   transmission  51525 non-null  object        \n",
      " 8   type          51525 non-null  object        \n",
      " 9   paint_color   42258 non-null  object        \n",
      " 10  is_4wd        25572 non-null  float64       \n",
      " 11  date_posted   51525 non-null  datetime64[ns]\n",
      " 12  days_listed   51525 non-null  int64         \n",
      "dtypes: datetime64[ns](1), float64(4), int64(2), object(6)\n",
      "memory usage: 5.1+ MB\n"
     ]
    }
   ],
   "source": [
    "vehicles['date_posted'] = pd.to_datetime(vehicles['date_posted'], format='mixed') #Transformando a coluna 'date_posted' para o formato datetime64 \n",
    "vehicles.info()"
   ]
  }
 ],
 "metadata": {
  "kernelspec": {
   "display_name": "ambiente",
   "language": "python",
   "name": "python3"
  },
  "language_info": {
   "codemirror_mode": {
    "name": "ipython",
    "version": 3
   },
   "file_extension": ".py",
   "mimetype": "text/x-python",
   "name": "python",
   "nbconvert_exporter": "python",
   "pygments_lexer": "ipython3",
   "version": "3.13.2"
  }
 },
 "nbformat": 4,
 "nbformat_minor": 5
}
